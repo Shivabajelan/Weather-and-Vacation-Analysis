{
 "cells": [
  {
   "cell_type": "markdown",
   "metadata": {},
   "source": [
    "\n",
    "# WeatherPy\n",
    "\n",
    "---\n",
    "\n",
    "## Starter Code to Generate Random Geographic Coordinates and a List of Cities"
   ]
  },
  {
   "cell_type": "code",
   "execution_count": 3,
   "metadata": {},
   "outputs": [
    {
     "name": "stdout",
     "output_type": "stream",
     "text": [
      "Requirement already satisfied: citipy in c:\\users\\shiva\\anaconda3\\envs\\dev\\lib\\site-packages (0.0.6)\n",
      "Requirement already satisfied: kdtree>=0.12 in c:\\users\\shiva\\anaconda3\\envs\\dev\\lib\\site-packages (from citipy) (0.16)\n"
     ]
    }
   ],
   "source": [
    "!pip install citipy"
   ]
  },
  {
   "cell_type": "code",
   "execution_count": 4,
   "metadata": {
    "scrolled": true
   },
   "outputs": [],
   "source": [
    "# Dependencies and Setup\n",
    "import matplotlib.pyplot as plt\n",
    "import pandas as pd\n",
    "import numpy as np\n",
    "import requests\n",
    "import time\n",
    "from scipy.stats import linregress\n",
    "\n",
    "# Impor the OpenWeatherMap API key\n",
    "from api_keys import weather_api_key\n",
    "\n",
    "# Import citipy to determine the cities based on latitude and longitude\n",
    "from citipy import citipy"
   ]
  },
  {
   "cell_type": "markdown",
   "metadata": {},
   "source": [
    "### Generate the Cities List by Using the `citipy` Library"
   ]
  },
  {
   "cell_type": "code",
   "execution_count": 5,
   "metadata": {},
   "outputs": [
    {
     "data": {
      "text/plain": [
       "'705f6c77237530c83f598014015d4cb0'"
      ]
     },
     "execution_count": 5,
     "metadata": {},
     "output_type": "execute_result"
    }
   ],
   "source": [
    "weather_api_key"
   ]
  },
  {
   "cell_type": "code",
   "execution_count": 6,
   "metadata": {},
   "outputs": [
    {
     "name": "stdout",
     "output_type": "stream",
     "text": [
      "Number of cities in the list: 592\n"
     ]
    }
   ],
   "source": [
    "# Empty list for holding the latitude and longitude combinations\n",
    "lat_lngs = []\n",
    "\n",
    "# Empty list for holding the cities names\n",
    "cities = []\n",
    "\n",
    "# Range of latitudes and longitudes\n",
    "lat_range = (-90, 90)\n",
    "lng_range = (-180, 180)\n",
    "\n",
    "# Create a set of random lat and lng combinations\n",
    "lats = np.random.uniform(lat_range[0], lat_range[1], size=1500)\n",
    "lngs = np.random.uniform(lng_range[0], lng_range[1], size=1500)\n",
    "lat_lngs = zip(lats, lngs)\n",
    "\n",
    "# Identify nearest city for each lat, lng combination\n",
    "for lat_lng in lat_lngs:\n",
    "    city = citipy.nearest_city(lat_lng[0], lat_lng[1]).city_name\n",
    "    \n",
    "    # If the city is unique, then add it to a our cities list\n",
    "    if city not in cities:\n",
    "        cities.append(city)\n",
    "\n",
    "# Print the city count to confirm sufficient count\n",
    "print(f\"Number of cities in the list: {len(cities)}\")"
   ]
  },
  {
   "cell_type": "markdown",
   "metadata": {},
   "source": [
    "---"
   ]
  },
  {
   "cell_type": "markdown",
   "metadata": {},
   "source": [
    "## Requirement 1: Create Plots to Showcase the Relationship Between Weather Variables and Latitude\n",
    "\n",
    "### Use the OpenWeatherMap API to retrieve weather data from the cities list generated in the started code"
   ]
  },
  {
   "cell_type": "code",
   "execution_count": null,
   "metadata": {},
   "outputs": [],
   "source": []
  },
  {
   "cell_type": "code",
   "execution_count": null,
   "metadata": {},
   "outputs": [
    {
     "name": "stdout",
     "output_type": "stream",
     "text": [
      "Beginning Data Retrieval     \n",
      "-----------------------------\n",
      "Processing Record 1 of Set 1 | sam phran\n",
      "Processing Record 2 of Set 1 | adamstown\n",
      "Processing Record 3 of Set 1 | urangan\n",
      "Processing Record 4 of Set 1 | piacabucu\n",
      "Processing Record 5 of Set 1 | puerto natales\n",
      "Processing Record 6 of Set 1 | kodinsk\n",
      "Processing Record 7 of Set 1 | blackmans bay\n",
      "Processing Record 8 of Set 1 | ponnani\n",
      "Processing Record 9 of Set 1 | port-aux-francais\n",
      "Processing Record 10 of Set 1 | tiksi\n",
      "Processing Record 11 of Set 1 | saint-pierre\n",
      "Processing Record 12 of Set 1 | waitangi\n",
      "Processing Record 13 of Set 1 | tolanaro\n",
      "Processing Record 14 of Set 1 | laojunmiao\n",
      "Processing Record 15 of Set 1 | talnakh\n",
      "Processing Record 16 of Set 1 | utrik\n",
      "Processing Record 17 of Set 1 | grytviken\n",
      "Processing Record 18 of Set 1 | broome\n",
      "Processing Record 19 of Set 1 | usinsk\n",
      "Processing Record 20 of Set 1 | sabang\n",
      "Processing Record 21 of Set 1 | yellowknife\n",
      "Processing Record 22 of Set 1 | kazalinsk\n",
      "City not found. Skipping...\n",
      "Processing Record 23 of Set 1 | whitehorse\n",
      "Processing Record 24 of Set 1 | bodo\n",
      "Processing Record 25 of Set 1 | margaret river\n",
      "Processing Record 26 of Set 1 | fale old settlement\n",
      "Processing Record 27 of Set 1 | thompson\n",
      "Processing Record 28 of Set 1 | georgetown\n",
      "Processing Record 29 of Set 1 | palapye\n",
      "Processing Record 30 of Set 1 | hermanus\n",
      "Processing Record 31 of Set 1 | rabo de peixe\n",
      "Processing Record 32 of Set 1 | gorele\n",
      "Processing Record 33 of Set 1 | ust-nera\n",
      "Processing Record 34 of Set 1 | longyearbyen\n",
      "Processing Record 35 of Set 1 | crane\n",
      "Processing Record 36 of Set 1 | sur\n",
      "Processing Record 37 of Set 1 | alotau\n",
      "City not found. Skipping...\n",
      "Processing Record 38 of Set 1 | tomatlan\n",
      "Processing Record 39 of Set 1 | san antonio del estrecho\n",
      "City not found. Skipping...\n",
      "Processing Record 40 of Set 1 | west island\n",
      "Processing Record 41 of Set 1 | bubaque\n",
      "Processing Record 42 of Set 1 | paradera\n",
      "City not found. Skipping...\n",
      "Processing Record 43 of Set 1 | edinburgh of the seven seas\n",
      "Processing Record 44 of Set 1 | isafjordur\n",
      "Processing Record 45 of Set 1 | ocean shores\n",
      "Processing Record 46 of Set 1 | vernon\n",
      "Processing Record 47 of Set 1 | port mathurin\n",
      "Processing Record 48 of Set 1 | anadyr\n",
      "Processing Record 49 of Set 1 | maraba\n",
      "Processing Record 50 of Set 1 | bredasdorp\n",
      "Processing Record 0 of Set 2 | atafu village\n",
      "Processing Record 1 of Set 2 | ilinge\n",
      "Processing Record 2 of Set 2 | kone\n",
      "Processing Record 3 of Set 2 | puerto ayora\n",
      "Processing Record 4 of Set 2 | avarua\n",
      "Processing Record 5 of Set 2 | bestobe\n",
      "Processing Record 6 of Set 2 | dunedin\n",
      "Processing Record 7 of Set 2 | yambio\n",
      "Processing Record 8 of Set 2 | ixtapa\n",
      "Processing Record 9 of Set 2 | taoudenni\n",
      "Processing Record 10 of Set 2 | bowen\n",
      "Processing Record 11 of Set 2 | sault ste. marie\n",
      "Processing Record 12 of Set 2 | hithadhoo\n",
      "Processing Record 13 of Set 2 | iwanai\n",
      "Processing Record 14 of Set 2 | alpine\n",
      "Processing Record 15 of Set 2 | qamdo\n",
      "Processing Record 16 of Set 2 | fort bragg\n",
      "Processing Record 17 of Set 2 | novoul'yanovsk\n",
      "Processing Record 18 of Set 2 | la ronge\n",
      "Processing Record 19 of Set 2 | invercargill\n",
      "Processing Record 20 of Set 2 | gemerek\n",
      "Processing Record 21 of Set 2 | sinabang\n",
      "Processing Record 22 of Set 2 | albany\n",
      "Processing Record 23 of Set 2 | college\n",
      "Processing Record 24 of Set 2 | bardai\n",
      "Processing Record 25 of Set 2 | nova sintra\n",
      "Processing Record 26 of Set 2 | alofi\n",
      "Processing Record 27 of Set 2 | petropavlovsk-kamchatsky\n",
      "Processing Record 28 of Set 2 | carnarvon\n",
      "Processing Record 29 of Set 2 | nagqu\n",
      "Processing Record 30 of Set 2 | margate\n",
      "Processing Record 31 of Set 2 | stanley\n",
      "Processing Record 32 of Set 2 | tralee\n",
      "Processing Record 33 of Set 2 | antonio enes\n",
      "Processing Record 34 of Set 2 | chonchi\n",
      "Processing Record 35 of Set 2 | andrushivka\n",
      "Processing Record 36 of Set 2 | constantia\n",
      "Processing Record 37 of Set 2 | angaur state\n",
      "Processing Record 38 of Set 2 | st. john's\n",
      "Processing Record 39 of Set 2 | ushuaia\n",
      "Processing Record 40 of Set 2 | sao joao da barra\n",
      "Processing Record 41 of Set 2 | wailua homesteads\n",
      "Processing Record 42 of Set 2 | huron\n",
      "Processing Record 43 of Set 2 | bethel\n",
      "Processing Record 44 of Set 2 | miragoane\n",
      "Processing Record 45 of Set 2 | ilulissat\n",
      "Processing Record 46 of Set 2 | peschanokopskoye\n",
      "Processing Record 47 of Set 2 | kodiak\n",
      "Processing Record 48 of Set 2 | argostolion\n",
      "Processing Record 49 of Set 2 | enewetak\n",
      "Processing Record 0 of Set 3 | iqaluit\n",
      "Processing Record 1 of Set 3 | queenstown\n",
      "Processing Record 2 of Set 3 | vuktyl\n",
      "Processing Record 3 of Set 3 | lesnoy\n",
      "Processing Record 4 of Set 3 | tamanrasset\n",
      "Processing Record 5 of Set 3 | koraput\n",
      "Processing Record 6 of Set 3 | port elizabeth\n",
      "Processing Record 7 of Set 3 | nuku'alofa\n",
      "Processing Record 8 of Set 3 | mogocha\n",
      "Processing Record 9 of Set 3 | 'ohonua\n",
      "City not found. Skipping...\n",
      "Processing Record 10 of Set 3 | boysun\n",
      "Processing Record 11 of Set 3 | susuman\n",
      "Processing Record 12 of Set 3 | kukawa\n",
      "Processing Record 13 of Set 3 | cooper's town\n",
      "Processing Record 14 of Set 3 | hafar al-batin\n",
      "Processing Record 15 of Set 3 | amguri\n",
      "Processing Record 16 of Set 3 | khandyga\n",
      "Processing Record 17 of Set 3 | kombolcha\n",
      "Processing Record 18 of Set 3 | ciudad lazaro cardenas\n",
      "Processing Record 19 of Set 3 | novo aripuana\n",
      "Processing Record 20 of Set 3 | haiku-pauwela\n",
      "Processing Record 21 of Set 3 | vorgashor\n",
      "Processing Record 22 of Set 3 | petatlan\n",
      "Processing Record 23 of Set 3 | devinuwara\n",
      "City not found. Skipping...\n",
      "Processing Record 24 of Set 3 | volodymyr-volynskyi\n",
      "Processing Record 25 of Set 3 | biltine\n",
      "Processing Record 26 of Set 3 | xilin hot\n",
      "Processing Record 27 of Set 3 | hampton bays\n",
      "Processing Record 28 of Set 3 | nyagan\n",
      "Processing Record 29 of Set 3 | al fahahil\n",
      "Processing Record 30 of Set 3 | kapa'a\n",
      "Processing Record 31 of Set 3 | tranovaho\n",
      "City not found. Skipping...\n",
      "Processing Record 32 of Set 3 | midoun\n",
      "Processing Record 33 of Set 3 | grand falls-windsor\n",
      "Processing Record 34 of Set 3 | damavand\n",
      "Processing Record 35 of Set 3 | laela\n",
      "Processing Record 36 of Set 3 | kailua-kona\n",
      "Processing Record 37 of Set 3 | ahau\n",
      "City not found. Skipping...\n",
      "Processing Record 38 of Set 3 | tangalle\n",
      "Processing Record 39 of Set 3 | undurkhaan\n",
      "Processing Record 40 of Set 3 | mascote\n",
      "Processing Record 41 of Set 3 | ust'-ilimsk\n",
      "Processing Record 42 of Set 3 | east london\n",
      "Processing Record 43 of Set 3 | turpan\n",
      "Processing Record 44 of Set 3 | rikaze\n",
      "Processing Record 45 of Set 3 | vegachi\n",
      "Processing Record 46 of Set 3 | acapulco de juarez\n",
      "Processing Record 47 of Set 3 | balnearia\n",
      "Processing Record 48 of Set 3 | mohr\n",
      "Processing Record 49 of Set 3 | aden\n",
      "Processing Record 0 of Set 4 | tura\n",
      "Processing Record 1 of Set 4 | nema\n",
      "Processing Record 2 of Set 4 | luderitz\n",
      "Processing Record 3 of Set 4 | san patricio\n",
      "Processing Record 4 of Set 4 | znamenskoye\n",
      "Processing Record 5 of Set 4 | punta arenas\n",
      "Processing Record 6 of Set 4 | meadow lakes\n",
      "Processing Record 7 of Set 4 | sinop\n",
      "Processing Record 8 of Set 4 | zyryanovsk\n",
      "Processing Record 9 of Set 4 | ribeira grande\n",
      "Processing Record 10 of Set 4 | roma\n",
      "Processing Record 11 of Set 4 | ulysses\n",
      "Processing Record 12 of Set 4 | leh\n",
      "Processing Record 13 of Set 4 | caconda\n",
      "Processing Record 14 of Set 4 | plastun\n",
      "Processing Record 15 of Set 4 | weno\n",
      "Processing Record 16 of Set 4 | opuwo\n",
      "Processing Record 17 of Set 4 | fort st. john\n",
      "Processing Record 18 of Set 4 | dobryanka\n",
      "Processing Record 19 of Set 4 | pasuquin\n",
      "Processing Record 20 of Set 4 | whittlesea\n",
      "Processing Record 21 of Set 4 | mount isa\n",
      "Processing Record 22 of Set 4 | vingt cinq\n",
      "City not found. Skipping...\n",
      "Processing Record 23 of Set 4 | kruisfontein\n",
      "Processing Record 24 of Set 4 | seven pagodas\n",
      "Processing Record 25 of Set 4 | al-`ula\n",
      "City not found. Skipping...\n",
      "Processing Record 26 of Set 4 | asau\n",
      "Processing Record 27 of Set 4 | boa vista\n",
      "Processing Record 28 of Set 4 | bima\n",
      "Processing Record 29 of Set 4 | ubari\n",
      "Processing Record 30 of Set 4 | manaure\n",
      "Processing Record 31 of Set 4 | dudinka\n",
      "Processing Record 32 of Set 4 | papatowai\n",
      "Processing Record 33 of Set 4 | jamestown\n",
      "Processing Record 34 of Set 4 | puerto aysen\n",
      "Processing Record 35 of Set 4 | ansalta\n",
      "Processing Record 36 of Set 4 | altay\n",
      "Processing Record 37 of Set 4 | klyuchi\n",
      "Processing Record 38 of Set 4 | polovinnoye\n",
      "Processing Record 39 of Set 4 | nikolayevsk-on-amure\n",
      "Processing Record 40 of Set 4 | jiayuguan\n",
      "Processing Record 41 of Set 4 | mapimi\n",
      "Processing Record 42 of Set 4 | mount gambier\n"
     ]
    }
   ],
   "source": [
    "# Set the API base URL\n",
    "url = \"http://api.openweathermap.org/data/2.5/weather?units=Metric&APPID=\"+ weather_api_key\n",
    "\n",
    "# Define an empty list to fetch the weather data for each city\n",
    "city_data = []\n",
    "\n",
    "# Print to logger\n",
    "print(\"Beginning Data Retrieval     \")\n",
    "print(\"-----------------------------\")\n",
    "\n",
    "# Create counters\n",
    "record_count = 1\n",
    "set_count = 1\n",
    "\n",
    "# Loop through all the cities in our list to fetch weather data\n",
    "for i, city in enumerate(cities):\n",
    "        \n",
    "    # Group cities in sets of 50 for logging purposes\n",
    "    if (i % 50 == 0 and i >= 50):\n",
    "        set_count += 1\n",
    "        record_count = 0\n",
    "\n",
    "    # Create endpoint URL with each city\n",
    "    city_url =  url + \"&q=\" + city\n",
    "    \n",
    "    # Log the url, record, and set numbers\n",
    "    print(\"Processing Record %s of Set %s | %s\" % (record_count, set_count, city))\n",
    "\n",
    "    # Add 1 to the record count\n",
    "    record_count += 1\n",
    "\n",
    "    # Run an API request for each of the cities\n",
    "    try:\n",
    "        # Parse the JSON and retrieve data\n",
    "        city_weather = requests.get(city_url).json()\n",
    "\n",
    "        # Parse out latitude, longitude, max temp, humidity, cloudiness, wind speed, country, and date\n",
    "        city_lat = city_weather['coord']['lat']\n",
    "        city_lng = city_weather['coord']['lon']\n",
    "        city_max_temp = city_weather['main']['temp_max']\n",
    "        city_humidity = city_weather['main']['humidity']\n",
    "        city_clouds = city_weather['clouds']['all']\n",
    "        city_wind = city_weather['wind']['speed']\n",
    "        city_country = city_weather['sys']['country']\n",
    "        city_date = city_weather['dt']\n",
    "\n",
    "        # Append the City information into city_data list\n",
    "        city_data.append({\"City\": city, \n",
    "                          \"Lat\": city_lat, \n",
    "                          \"Lng\": city_lng, \n",
    "                          \"Max Temp\": city_max_temp,\n",
    "                          \"Humidity\": city_humidity,\n",
    "                          \"Cloudiness\": city_clouds,\n",
    "                          \"Wind Speed\": city_wind,\n",
    "                          \"Country\": city_country,\n",
    "                          \"Date\": city_date})\n",
    "\n",
    "    # If an error is experienced, skip the city\n",
    "    except:\n",
    "        print(\"City not found. Skipping...\")\n",
    "        pass\n",
    "                  \n",
    "# Indicate that Data Loading is complete \n",
    "print(\"-----------------------------\")\n",
    "print(\"Data Retrieval Complete      \")\n",
    "print(\"-----------------------------\")"
   ]
  },
  {
   "cell_type": "code",
   "execution_count": null,
   "metadata": {},
   "outputs": [],
   "source": [
    "# Convert the cities weather data into a Pandas DataFrame\n",
    "city_data_df =pd.DataFrame(city_data)\n",
    "\n",
    "# Show Record Count\n",
    "city_data_df.count()"
   ]
  },
  {
   "cell_type": "code",
   "execution_count": null,
   "metadata": {},
   "outputs": [],
   "source": [
    "# Display sample data\n",
    "city_data_df.head()"
   ]
  },
  {
   "cell_type": "code",
   "execution_count": null,
   "metadata": {},
   "outputs": [],
   "source": [
    "# Export the City_Data into a csv\n",
    "city_data_df.to_csv(\"output_data/cities.csv\", index_label=\"City_ID\")"
   ]
  },
  {
   "cell_type": "code",
   "execution_count": null,
   "metadata": {},
   "outputs": [],
   "source": [
    "# Read saved data\n",
    "city_data_df = pd.read_csv(\"output_data/cities.csv\", index_col=\"City_ID\")\n",
    "\n",
    "# Display sample data\n",
    "city_data_df.head()"
   ]
  },
  {
   "cell_type": "markdown",
   "metadata": {},
   "source": [
    "### Create the Scatter Plots Requested\n",
    "\n",
    "#### Latitude Vs. Temperature"
   ]
  },
  {
   "cell_type": "code",
   "execution_count": null,
   "metadata": {
    "tags": []
   },
   "outputs": [],
   "source": [
    "# Build scatter plot for latitude vs. temperature\n",
    "plt.scatter(city_data_df[\"Lat\"], city_data_df[\"Max Temp\"], marker=\"o\")\n",
    "\n",
    "# Incorporate the other graph properties\n",
    "plt.title(\"Max Temp in World Cities\")\n",
    "plt.ylabel(\"Max Temp\")\n",
    "plt.xlabel(\"Latitude\")\n",
    "plt.grid(True)\n",
    "\n",
    "# Save the figure\n",
    "plt.savefig(\"output_data/Fig1.png\")\n",
    "\n",
    "# Show plot\n",
    "plt.show()"
   ]
  },
  {
   "cell_type": "markdown",
   "metadata": {},
   "source": [
    "#### Latitude Vs. Humidity"
   ]
  },
  {
   "cell_type": "code",
   "execution_count": null,
   "metadata": {},
   "outputs": [],
   "source": [
    "# Build the scatter plots for latitude vs. humidity\n",
    "plt.scatter(city_data_df[\"Lat\"], city_data_df[\"Humidity\"], marker=\"o\")\n",
    "\n",
    "# Incorporate the other graph properties\n",
    "plt.title(\"Humidity in World Cities\")\n",
    "plt.ylabel(\"Humidity\")\n",
    "plt.xlabel(\"Latitude\")\n",
    "plt.grid(True)\n",
    "\n",
    "# Save the figure\n",
    "plt.savefig(\"output_data/Fig2.png\")\n",
    "\n",
    "# Show plot\n",
    "plt.show()"
   ]
  },
  {
   "cell_type": "markdown",
   "metadata": {},
   "source": [
    "#### Latitude Vs. Cloudiness"
   ]
  },
  {
   "cell_type": "code",
   "execution_count": null,
   "metadata": {},
   "outputs": [],
   "source": [
    "# Build the scatter plots for latitude vs. cloudiness\n",
    "plt.scatter(city_data_df[\"Lat\"], city_data_df[\"Cloudiness\"], marker=\"o\")\n",
    "\n",
    "# Incorporate the other graph properties\n",
    "plt.title(\"Cloudiness in World Cities\")\n",
    "plt.ylabel(\"Cloudiness\")\n",
    "plt.xlabel(\"Latitude\")\n",
    "plt.grid(True)\n",
    "\n",
    "# Save the figure\n",
    "plt.savefig(\"output_data/Fig3.png\")\n",
    "\n",
    "# Show plot\n",
    "plt.show()"
   ]
  },
  {
   "cell_type": "markdown",
   "metadata": {},
   "source": [
    "#### Latitude vs. Wind Speed Plot"
   ]
  },
  {
   "cell_type": "code",
   "execution_count": null,
   "metadata": {},
   "outputs": [],
   "source": [
    "# Build the scatter plots for latitude vs. wind speed\n",
    "plt.scatter(city_data_df[\"Lat\"], city_data_df[\"Wind Speed\"], marker=\"o\")\n",
    "# Incorporate the other graph properties\n",
    "plt.title(\"Wind Speed in World Cities\")\n",
    "plt.ylabel(\"Wind Speed\")\n",
    "plt.xlabel(\"Latitude\")\n",
    "plt.grid(True)\n",
    "# Save the figure\n",
    "plt.savefig(\"output_data/Fig4.png\")\n",
    "\n",
    "# Show plot\n",
    "plt.show()"
   ]
  },
  {
   "cell_type": "markdown",
   "metadata": {},
   "source": [
    "---\n",
    "\n",
    "## Requirement 2: Compute Linear Regression for Each Relationship\n"
   ]
  },
  {
   "cell_type": "code",
   "execution_count": null,
   "metadata": {},
   "outputs": [],
   "source": [
    "# Define a function to create Linear Regression plots\n",
    "\n",
    "def my_function(x_values, y_values, x_label, y_label, text):\n",
    "    (slope, intercept, rvalue, pvalue, stderr) = linregress(x_values, y_values)\n",
    "    regress_values = x_values * slope + intercept\n",
    "    \n",
    "    # Create line equation string\n",
    "    line_eq = \"y = \" + str(round(slope,2)) + \"x +\" + str(round(intercept,2))\n",
    "    print(line_eq)\n",
    "\n",
    "    # Create Plot\n",
    "    plt.scatter(x_values,y_values)\n",
    "    plt.plot(x_values,regress_values,\"r-\")\n",
    "\n",
    "    # Label plot and annotate the line equation\n",
    "    plt.xlabel(x_label)\n",
    "    plt.ylabel(y_label)\n",
    "    plt.annotate(line_eq,text,fontsize=15,color=\"red\")\n",
    "\n",
    "    # Print r value\n",
    "    print(f\"The r-value is: {rvalue**2}\")\n",
    "\n",
    "    # Show plot\n",
    "    plt.show()\n"
   ]
  },
  {
   "cell_type": "code",
   "execution_count": null,
   "metadata": {},
   "outputs": [],
   "source": [
    "# Create a DataFrame with the Northern Hemisphere data (Latitude >= 0)\n",
    "northern_hemi_df = city_data_df[city_data_df['Lat'] >= 0]\n",
    "\n",
    "# Display sample data\n",
    "northern_hemi_df.head()"
   ]
  },
  {
   "cell_type": "code",
   "execution_count": null,
   "metadata": {},
   "outputs": [],
   "source": [
    "# Create a DataFrame with the Southern Hemisphere data (Latitude< 0)\n",
    "southern_hemi_df = city_data_df[city_data_df['Lat'] < 0]\n",
    "\n",
    "# Display sample data\n",
    "southern_hemi_df.head()"
   ]
  },
  {
   "cell_type": "markdown",
   "metadata": {},
   "source": [
    "###  Temperature vs. Latitude Linear Regression Plot"
   ]
  },
  {
   "cell_type": "code",
   "execution_count": null,
   "metadata": {},
   "outputs": [],
   "source": [
    "# Linear regression on Northern Hemisphere\n",
    "x_values = northern_hemi_df['Lat']\n",
    "y_values = northern_hemi_df['Max Temp']\n",
    "(slope, intercept, rvalue, pvalue, stderr) = linregress(x_values, y_values)\n",
    "\n",
    "# Get regression values\n",
    "regress_values = x_values * slope + intercept\n",
    "\n",
    "# Create line equation string\n",
    "line_eq = \"y = \" + str(round(slope,2)) + \"x +\" + str(round(intercept,2))\n",
    "print(line_eq)\n",
    "\n",
    "# Create Plot\n",
    "plt.scatter(x_values,y_values)\n",
    "plt.plot(x_values,regress_values,\"r-\")\n",
    "\n",
    "# Label plot and annotate the line equation\n",
    "plt.xlabel('Latitude')\n",
    "plt.ylabel('Max Temp')\n",
    "plt.annotate(line_eq,(10,-10),fontsize=15,color=\"red\")\n",
    "\n",
    "# Print r value\n",
    "print(f\"The r-value is: {rvalue**2}\")\n",
    "\n",
    "# Show plot\n",
    "plt.show()\n",
    "\n",
    "\n",
    "\n"
   ]
  },
  {
   "cell_type": "code",
   "execution_count": null,
   "metadata": {},
   "outputs": [],
   "source": [
    "# Linear regression on Northern Hemisphere using the function\n",
    "x_values = northern_hemi_df['Lat']\n",
    "y_values = northern_hemi_df['Max Temp']\n",
    "my_function(x_values, y_values,'Latitude', 'Max Temp', (10,-10))"
   ]
  },
  {
   "cell_type": "code",
   "execution_count": null,
   "metadata": {},
   "outputs": [],
   "source": [
    "# Linear regression on Northern Hemisphere using the function\n",
    "x_values = southern_hemi_df['Lat']\n",
    "y_values = southern_hemi_df['Max Temp']\n",
    "my_function(x_values, y_values,'Latitude', 'Max Temp', (-50,30))"
   ]
  },
  {
   "cell_type": "markdown",
   "metadata": {},
   "source": [
    "**Discussion about the linear relationship:** The Max Tempature vs. Latitude plot for cities in the northern hemisphere is shown above. The r-value(=rvalue**2) is 0.77 , the max temperature appears show a strong negative linear relationship with latitudes in the northern hemisphere.\n",
    "The Max Tempature vs. Latitude plot for cities in the southern hemisphere is also shown above. The r-value is 0.39 ,Unlike northern hemisphere, the data seems to show week relationship between max tempature and latitude for the southern hemisphere."
   ]
  },
  {
   "cell_type": "markdown",
   "metadata": {},
   "source": [
    "# Humidity vs. Latitude Linear Regression Plot"
   ]
  },
  {
   "cell_type": "code",
   "execution_count": null,
   "metadata": {},
   "outputs": [],
   "source": [
    "# Northern Hemisphere\n",
    "x_values = northern_hemi_df['Lat']\n",
    "y_values = northern_hemi_df['Humidity']\n",
    "my_function(x_values, y_values,'Latitude', 'Humidity', (0,45))"
   ]
  },
  {
   "cell_type": "code",
   "execution_count": null,
   "metadata": {},
   "outputs": [],
   "source": [
    "# Southern Hemisphere\n",
    "x_values = southern_hemi_df['Lat']\n",
    "y_values = southern_hemi_df['Humidity']\n",
    "my_function(x_values, y_values,'Latitude', 'Humidity', (-55,60))"
   ]
  },
  {
   "cell_type": "markdown",
   "metadata": {},
   "source": [
    "**Discussion about the linear relationship:** The Humidity vs. Latitude plot for cities in the northern hemisphere is shown above. The r-value is 0.18 , the data seems to show no relationship between Humidity and latitude for the northern hemisphere.\n",
    "The Humidity vs. Latitude plot for cities in the southern hemisphere is also shown above. Ther-value is 0.02 , the data seems to show no relationship between Humidity and latitude for the southern hemisphere."
   ]
  },
  {
   "cell_type": "markdown",
   "metadata": {},
   "source": [
    "### Cloudiness vs. Latitude Linear Regression Plot"
   ]
  },
  {
   "cell_type": "code",
   "execution_count": null,
   "metadata": {},
   "outputs": [],
   "source": [
    "# Northern Hemisphere\n",
    "x_values = northern_hemi_df['Lat']\n",
    "y_values = northern_hemi_df['Cloudiness']\n",
    "my_function(x_values, y_values,'Latitude', 'Cloudiness', (40,45))"
   ]
  },
  {
   "cell_type": "code",
   "execution_count": null,
   "metadata": {},
   "outputs": [],
   "source": [
    "# Southern Hemisphere\n",
    "x_values = southern_hemi_df['Lat']\n",
    "y_values = southern_hemi_df['Cloudiness']\n",
    "my_function(x_values, y_values,'Latitude', 'Cloudiness', (-55,60))"
   ]
  },
  {
   "cell_type": "markdown",
   "metadata": {},
   "source": [
    "**Discussion about the linear relationship:** The Cloudiness vs. Latitude plot for cities in the northern hemisphere is shown above. The r-value is 0.05 , the data seems to show no relationship between cloudiness and latitude for the northern hemisphere.\n",
    "The Cloudiness vs. Latitude plot for cities in the southern hemisphere is also shown above. The r-value is 0.05 , the data seems to show no relationship between cloudiness and latitude for the southern hemisphere.\n"
   ]
  },
  {
   "cell_type": "markdown",
   "metadata": {},
   "source": [
    "### Wind Speed vs. Latitude Linear Regression Plot"
   ]
  },
  {
   "cell_type": "code",
   "execution_count": null,
   "metadata": {},
   "outputs": [],
   "source": [
    "# Northern Hemisphere\n",
    "x_values = northern_hemi_df['Lat']\n",
    "y_values = northern_hemi_df['Wind Speed']\n",
    "my_function(x_values, y_values,'Latitude', 'Wind Speed', (15,9))"
   ]
  },
  {
   "cell_type": "code",
   "execution_count": null,
   "metadata": {},
   "outputs": [],
   "source": [
    "# Southern Hemisphere\n",
    "x_values = southern_hemi_df['Lat']\n",
    "y_values = southern_hemi_df['Wind Speed']\n",
    "my_function(x_values, y_values,'Latitude', 'Wind Speed', (-55,7.5))"
   ]
  },
  {
   "cell_type": "markdown",
   "metadata": {},
   "source": [
    "**Discussion about the linear relationship:** The Wind Speed vs. Latitude plot for cities in the northern hemisphere is shown above. the r-value is 0.02 , the data seems to show no relationship between wind speed and latitude for the northern hemisphere.\n",
    "The Wind Speed vs. Latitude plot for cities in the southern hemisphere is als shown above. the  r-value is 0.09 , the data seems to show no relationship between wind speed and latitude for the southern hemisphere.\n"
   ]
  },
  {
   "cell_type": "code",
   "execution_count": null,
   "metadata": {},
   "outputs": [],
   "source": []
  }
 ],
 "metadata": {
  "anaconda-cloud": {},
  "kernel_info": {
   "name": "python3"
  },
  "kernelspec": {
   "display_name": "Python 3 (ipykernel)",
   "language": "python",
   "name": "python3"
  },
  "language_info": {
   "codemirror_mode": {
    "name": "ipython",
    "version": 3
   },
   "file_extension": ".py",
   "mimetype": "text/x-python",
   "name": "python",
   "nbconvert_exporter": "python",
   "pygments_lexer": "ipython3",
   "version": "3.11.5"
  },
  "latex_envs": {
   "LaTeX_envs_menu_present": true,
   "autoclose": false,
   "autocomplete": true,
   "bibliofile": "biblio.bib",
   "cite_by": "apalike",
   "current_citInitial": 1,
   "eqLabelWithNumbers": true,
   "eqNumInitial": 1,
   "hotkeys": {
    "equation": "Ctrl-E",
    "itemize": "Ctrl-I"
   },
   "labels_anchors": false,
   "latex_user_defs": false,
   "report_style_numbering": false,
   "user_envs_cfg": false
  },
  "nteract": {
   "version": "0.12.3"
  }
 },
 "nbformat": 4,
 "nbformat_minor": 4
}
